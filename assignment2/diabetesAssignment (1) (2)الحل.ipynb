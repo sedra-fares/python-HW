{
 "cells": [
  {
   "cell_type": "code",
   "execution_count": 1,
   "id": "b82d1f44",
   "metadata": {},
   "outputs": [
    {
     "ename": "FileNotFoundError",
     "evalue": "[Errno 2] No such file or directory: 'diabetes-factors (1).csv'",
     "output_type": "error",
     "traceback": [
      "\u001b[1;31m---------------------------------------------------------------------------\u001b[0m",
      "\u001b[1;31mFileNotFoundError\u001b[0m                         Traceback (most recent call last)",
      "Cell \u001b[1;32mIn[1], line 1\u001b[0m\n\u001b[1;32m----> 1\u001b[0m \u001b[38;5;28;01mwith\u001b[39;00m \u001b[38;5;28;43mopen\u001b[39;49m\u001b[43m(\u001b[49m\u001b[38;5;124;43m'\u001b[39;49m\u001b[38;5;124;43mdiabetes-factors (1).csv\u001b[39;49m\u001b[38;5;124;43m'\u001b[39;49m\u001b[43m,\u001b[49m\u001b[43m \u001b[49m\u001b[43mmode\u001b[49m\u001b[38;5;241;43m=\u001b[39;49m\u001b[38;5;124;43m'\u001b[39;49m\u001b[38;5;124;43mr\u001b[39;49m\u001b[38;5;124;43m'\u001b[39;49m\u001b[43m)\u001b[49m \u001b[38;5;28;01mas\u001b[39;00m file:\n\u001b[0;32m      2\u001b[0m     diabFile \u001b[38;5;241m=\u001b[39m file\u001b[38;5;241m.\u001b[39mread()\n\u001b[0;32m      4\u001b[0m heart \u001b[38;5;241m=\u001b[39m diabFile\u001b[38;5;241m.\u001b[39msplit(\u001b[38;5;124m'\u001b[39m\u001b[38;5;130;01m\\n\u001b[39;00m\u001b[38;5;124m'\u001b[39m)\n",
      "File \u001b[1;32m~\\AppData\\Roaming\\Python\\Python39\\site-packages\\IPython\\core\\interactiveshell.py:310\u001b[0m, in \u001b[0;36m_modified_open\u001b[1;34m(file, *args, **kwargs)\u001b[0m\n\u001b[0;32m    303\u001b[0m \u001b[38;5;28;01mif\u001b[39;00m file \u001b[38;5;129;01min\u001b[39;00m {\u001b[38;5;241m0\u001b[39m, \u001b[38;5;241m1\u001b[39m, \u001b[38;5;241m2\u001b[39m}:\n\u001b[0;32m    304\u001b[0m     \u001b[38;5;28;01mraise\u001b[39;00m \u001b[38;5;167;01mValueError\u001b[39;00m(\n\u001b[0;32m    305\u001b[0m         \u001b[38;5;124mf\u001b[39m\u001b[38;5;124m\"\u001b[39m\u001b[38;5;124mIPython won\u001b[39m\u001b[38;5;124m'\u001b[39m\u001b[38;5;124mt let you open fd=\u001b[39m\u001b[38;5;132;01m{\u001b[39;00mfile\u001b[38;5;132;01m}\u001b[39;00m\u001b[38;5;124m by default \u001b[39m\u001b[38;5;124m\"\u001b[39m\n\u001b[0;32m    306\u001b[0m         \u001b[38;5;124m\"\u001b[39m\u001b[38;5;124mas it is likely to crash IPython. If you know what you are doing, \u001b[39m\u001b[38;5;124m\"\u001b[39m\n\u001b[0;32m    307\u001b[0m         \u001b[38;5;124m\"\u001b[39m\u001b[38;5;124myou can use builtins\u001b[39m\u001b[38;5;124m'\u001b[39m\u001b[38;5;124m open.\u001b[39m\u001b[38;5;124m\"\u001b[39m\n\u001b[0;32m    308\u001b[0m     )\n\u001b[1;32m--> 310\u001b[0m \u001b[38;5;28;01mreturn\u001b[39;00m io_open(file, \u001b[38;5;241m*\u001b[39margs, \u001b[38;5;241m*\u001b[39m\u001b[38;5;241m*\u001b[39mkwargs)\n",
      "\u001b[1;31mFileNotFoundError\u001b[0m: [Errno 2] No such file or directory: 'diabetes-factors (1).csv'"
     ]
    }
   ],
   "source": [
    "with open('diabetes-factors (1).csv', mode='r') as file:\n",
    "    diabFile = file.read()\n",
    "\n",
    "heart = diabFile.split('\\n')\n",
    "header = heart[0].split(',')\n",
    "data = heart[1:]\n",
    "\n",
    "# Splitting each line of data into a list of values\n",
    "data = list(map(lambda x: x.split(','), data))\n",
    "\n",
    "# Creating a list of dictionaries, where each dictionary represents a row of data\n",
    "hertDisease = [{header[i]: row[i] for i in range(len(header))} for row in data]\n",
    "\n",
    "# Function to convert heart_disease column to integer\n",
    "def mapType(row, column_name):\n",
    "    row[column_name] = int(row[column_name])\n",
    "    return row\n",
    "\n",
    "# Applying mapType function to convert 'heart_disease' column to integer\n",
    "hertDisease = list(map(lambda x: mapType(x, 'heart_disease'), hertDisease))\n",
    "\n",
    "# Applying mapType function to convert 'diabetes' column to integer\n",
    "hertDisease = list(map(lambda x: mapType(x, 'diabetes'), hertDisease))\n",
    "\n",
    "#the probability that a person will have diabetes given that he/she has heart disease.\n",
    "heartDiseaseCount = sum(row['heart_disease'] == 1 for row in hertDisease)\n",
    "\n",
    "diabetesAndHeartDiseaseCount = sum(row['heart_disease'] == 1 and row['diabetes'] == 0 for row in hertDisease)\n",
    "\n",
    "probDiabetesGivenHeartDisease = diabetesAndHeartDiseaseCount / heartDiseaseCount \n",
    "print(\"the probability that a person will have diabetes given that he/she has heart disease:\")\n",
    "probDiabetesGivenHeartDisease"
   ]
  },
  {
   "cell_type": "code",
   "execution_count": 95,
   "id": "31ed2b71",
   "metadata": {},
   "outputs": [
    {
     "name": "stdout",
     "output_type": "stream",
     "text": [
      "the probability that his/her age is over 50 and his/her blood glucose level is less than 100 given that they have diabetes: \n"
     ]
    },
    {
     "data": {
      "text/plain": [
       "0.0"
      ]
     },
     "execution_count": 95,
     "metadata": {},
     "output_type": "execute_result"
    }
   ],
   "source": [
    "def mapTypeFloat(row, column_name):\n",
    "    if column_name in row:\n",
    "        row[column_name] = float (row[column_name])\n",
    "    return row\n",
    "# Applying mapType function to convert 'age' column to float\n",
    "hertDisease = list(map(lambda x: mapTypeFloat(x, 'age'), hertDisease))\n",
    "\n",
    "# Applying mapType function to convert 'blood_glucose' column to float\n",
    "hertDisease = list(map(lambda x: mapTypeFloat(x, 'blood_glucose'), hertDisease))\n",
    "\n",
    "#If someone is having diabetes, what is the probability that his/her age is over 50 and his/her blood glucose level is less than 100. \n",
    "\n",
    "ageMoreThan50Count=sum(row['age'] >50 for row in hertDisease)\n",
    "glucoseLessThan100Count = sum('blood_glucose' in row and row['blood_glucose'] < 100 for row in hertDisease)\n",
    "diabetesCount=sum(row['diabetes'] == 0 for row in hertDisease)\n",
    "ageAndDiabetes=sum(row['age'] >50 and row['diabetes'] == 0 for row in hertDisease)\n",
    "probOfAge50GivenDiabetes=ageAndDiabetes/diabetesCount\n",
    "\n",
    "glucoseAndDiabetes = sum(('blood_glucose' in row and row['blood_glucose'] < 100  and row['diabetes'] == 0) for row in hertDisease)\n",
    "probOfGlucose100GivenDiabetes=glucoseAndDiabetes/diabetesCount\n",
    "\n",
    "probAge50AndGlucose100GivenDiabetes=probOfAge50GivenDiabetes*probOfGlucose100GivenDiabetes\n",
    "print(\"the probability that his/her age is over 50 and his/her blood glucose level is less than 100 given that they have diabetes: \")\n",
    "probAge50AndGlucose100GivenDiabetes"
   ]
  },
  {
   "cell_type": "code",
   "execution_count": 89,
   "id": "1fa45102",
   "metadata": {},
   "outputs": [
    {
     "data": {
      "text/plain": [
       "0.7586206896551724"
      ]
     },
     "execution_count": 89,
     "metadata": {},
     "output_type": "execute_result"
    }
   ],
   "source": [
    "#the probability of having diabetes for individuals whose age is over 50 and they have heart disease.\n",
    "age50HeartDiseaseCount=sum(row['age'] >50 and row['heart_disease'] == 1 for row in hertDisease)\n",
    "\n",
    "age50HeartDiseaseAndDiabetesCount=sum(row['age'] >50 and row['heart_disease'] == 1 and row['diabetes'] == 0 for row in hertDisease)\n",
    "probDiabetesGivenAge50HeartDisease=age50HeartDiseaseAndDiabetesCount/age50HeartDiseaseCount\n",
    "print(\"the probability of having diabetes for individuals whose age is over 50 and they have heart disease:\")\n",
    "probDiabetesGivenAge50HeartDisease"
   ]
  },
  {
   "cell_type": "code",
   "execution_count": null,
   "id": "839b7a63",
   "metadata": {
    "scrolled": true
   },
   "outputs": [],
   "source": [
    "#the probability that someone is having diabetes if their BMI is greater than a value entered by user.\n",
    "# Applying mapType function to convert 'blood_glucose' column to float\n",
    "bmi = list(map(lambda x: mapTypeFloat(x, 'bmi'), hertDisease))\n",
    "bmiStr=input(\"Please enter the min BMI value: \")\n",
    "bmiFloat=float(bmiStr)\n",
    "\n",
    "BmiMoreThanInputCount=sum(row['bmi'] >bmiFloat for row in hertDisease)\n",
    "diabetesAndBmiMoreThanInputCount=sum(row['bmi'] >bmiFloat and row['diabetes'] == 0  for row in hertDisease)\n",
    "\n",
    "probDiabetesGivenBmiMoreThanInput=diabetesAndBmiMoreThanInputCount/BmiMoreThanInputCount\n",
    "print(\"the probability that someone is having diabetes if their BMI is greater than a value entered by user:\")\n",
    "probDiabetesGivenBmiMoreThanInput\n"
   ]
  },
  {
   "cell_type": "code",
   "execution_count": null,
   "id": "0eac0c5c",
   "metadata": {},
   "outputs": [],
   "source": []
  },
  {
   "cell_type": "code",
   "execution_count": null,
   "id": "47d7bad7",
   "metadata": {},
   "outputs": [],
   "source": []
  },
  {
   "cell_type": "code",
   "execution_count": null,
   "id": "950bec54",
   "metadata": {},
   "outputs": [],
   "source": []
  },
  {
   "cell_type": "code",
   "execution_count": null,
   "id": "8e33dbc0",
   "metadata": {},
   "outputs": [],
   "source": []
  },
  {
   "cell_type": "code",
   "execution_count": null,
   "id": "f0eab43a",
   "metadata": {},
   "outputs": [],
   "source": []
  }
 ],
 "metadata": {
  "kernelspec": {
   "display_name": "Python 3",
   "language": "python",
   "name": "python3"
  },
  "language_info": {
   "codemirror_mode": {
    "name": "ipython",
    "version": 3
   },
   "file_extension": ".py",
   "mimetype": "text/x-python",
   "name": "python",
   "nbconvert_exporter": "python",
   "pygments_lexer": "ipython3",
   "version": "3.9.13"
  }
 },
 "nbformat": 4,
 "nbformat_minor": 5
}
