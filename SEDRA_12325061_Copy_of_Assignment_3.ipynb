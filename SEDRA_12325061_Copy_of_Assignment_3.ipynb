{
  "nbformat": 4,
  "nbformat_minor": 0,
  "metadata": {
    "colab": {
      "provenance": [],
      "include_colab_link": true
    },
    "kernelspec": {
      "name": "python3",
      "display_name": "Python 3"
    },
    "language_info": {
      "name": "python"
    }
  },
  "cells": [
    {
      "cell_type": "markdown",
      "metadata": {
        "id": "view-in-github",
        "colab_type": "text"
      },
      "source": [
        "<a href=\"https://colab.research.google.com/github/sedra-fares/python-HW/blob/main/SEDRA_12325061_Copy_of_Assignment_3.ipynb\" target=\"_parent\"><img src=\"https://colab.research.google.com/assets/colab-badge.svg\" alt=\"Open In Colab\"/></a>"
      ]
    },
    {
      "cell_type": "markdown",
      "source": [
        "\n",
        "**Assignment-3:**\n",
        "Suppose you have a dataset containing information about students, including their ```gender, parent_education, test_preperation, mark, and scores for a math exam that was repeated three times independently for each student(different questions for each trial) ```.\n",
        "\n",
        "\n",
        "**example sample**\n",
        "```\n",
        "{'gender': 'female',\n",
        "  'parent_education': 'some college',\n",
        "  'test_preperation': 'completed',\n",
        "  'mark': 'D',\n",
        "  'score_1':60,\n",
        "  'score_2':40,\n",
        "  'score_3':70\n",
        "  }\n",
        "```\n",
        "\n",
        "Data is stored in a list of dictionaries, for each dictionary, keys are `gender`, `parent_education`, `test_preperation`, `score_1`, `score_2`, `score_3`, and `mark`.\n",
        "\n",
        "\n",
        "## Values for each key are as follows :  \n",
        "\n",
        "**gender :** 'female', 'male'\n",
        "\n",
        "**parent_education :** \"bachelor's degree\" 'some college' \"master's degree\" \"associate's degree\" 'high school' 'some high school'\n",
        "\n",
        "**test_preperation :** 'none' 'completed'\n",
        "\n",
        "**mark :** 'C'  'A'  'B'\n",
        "\n",
        "**score_1,score_2,score_3 :** Integer values from 0 to 100\n",
        "\n",
        "\n"
      ],
      "metadata": {
        "id": "bLa8EGg73WQa"
      }
    },
    {
      "cell_type": "code",
      "source": [
        "# run this code to generate the data\n",
        "import pandas as pd\n",
        "path=\"https://docs.google.com/spreadsheets/d/1ch0wtMEsdKVBPcceODlPWfi292ECNszzm11MU9xKXAw/export?format=csv&gid=1385521382\"\n",
        "data = pd.read_csv(path).to_dict(\"records\")\n"
      ],
      "metadata": {
        "id": "DOAU3Eo54imf"
      },
      "execution_count": null,
      "outputs": []
    },
    {
      "cell_type": "code",
      "source": [
        "# print the first 5 records\n",
        "data[0:5]"
      ],
      "metadata": {
        "colab": {
          "base_uri": "https://localhost:8080/"
        },
        "id": "WV0-usX74xoa",
        "outputId": "e9c79130-b996-4237-ec2e-9811e8ab5e87"
      },
      "execution_count": null,
      "outputs": [
        {
          "output_type": "execute_result",
          "data": {
            "text/plain": [
              "[{'gender': 'female',\n",
              "  'parent_education': \"master's degree\",\n",
              "  'test_preperation': 'none',\n",
              "  'score_1': 87,\n",
              "  'score_2': 93,\n",
              "  'score_3': 91,\n",
              "  'mark': 'A'},\n",
              " {'gender': 'male',\n",
              "  'parent_education': 'some college',\n",
              "  'test_preperation': 'none',\n",
              "  'score_1': 76,\n",
              "  'score_2': 78,\n",
              "  'score_3': 75,\n",
              "  'mark': 'C'},\n",
              " {'gender': 'female',\n",
              "  'parent_education': \"associate's degree\",\n",
              "  'test_preperation': 'none',\n",
              "  'score_1': 73,\n",
              "  'score_2': 84,\n",
              "  'score_3': 79,\n",
              "  'mark': 'C'},\n",
              " {'gender': 'female',\n",
              "  'parent_education': 'some college',\n",
              "  'test_preperation': 'completed',\n",
              "  'score_1': 85,\n",
              "  'score_2': 93,\n",
              "  'score_3': 89,\n",
              "  'mark': 'B'},\n",
              " {'gender': 'male',\n",
              "  'parent_education': 'some college',\n",
              "  'test_preperation': 'none',\n",
              "  'score_1': 41,\n",
              "  'score_2': 43,\n",
              "  'score_3': 39,\n",
              "  'mark': 'C'}]"
            ]
          },
          "metadata": {},
          "execution_count": 27
        }
      ]
    },
    {
      "cell_type": "markdown",
      "source": [
        "# Question 1 (5 Points)\n",
        "\n",
        "Suppose a random variable Y represent number of sucesses in the three math exams. (Y is a binomial random variable with n=3) . A student pass an exam when his/her mark is greater or equal to 60\n",
        "\n",
        "- compute probability of success (p) (2.5 points)\n",
        "- compute probability of every value of the random variable Y (2.5 points)\n"
      ],
      "metadata": {
        "id": "ndSDXBFx49pK"
      }
    },
    {
      "cell_type": "code",
      "source": [
        "# write your code here to compute probability of success,\n",
        "# you don't have to write a function\n",
        "# ----------\n",
        "# Solution\n",
        "\n",
        "numberPassingAllExams1 =sum((x['score_1'] >= 60) for x in data)\n",
        "numberPassingAllExams2 =sum((x['score_2'] >= 60) for x in data)\n",
        "numberPassingAllExams3 =sum((x['score_3'] >= 60) for x in data)\n",
        "numberPassingAllExams=(numberPassingAllExams1)+(numberPassingAllExams2)+(numberPassingAllExams3)\n",
        "totalStudents = len(data)\n",
        "# the probability of passing all three exams (p)\n",
        "p = numberPassingAllExams / (totalStudents*3)\n",
        "print( \"Probability of passing all three exams (p):\", p)\n",
        "\n",
        "# ----------\n"
      ],
      "metadata": {
        "id": "hZCmMAWk5ATw",
        "colab": {
          "base_uri": "https://localhost:8080/"
        },
        "outputId": "e15ac811-022d-4190-936c-eb3bc8019e95"
      },
      "execution_count": null,
      "outputs": [
        {
          "output_type": "stream",
          "name": "stdout",
          "text": [
            "Probability of passing all three exams (p): 0.7364746945898778\n"
          ]
        }
      ]
    },
    {
      "cell_type": "markdown",
      "source": [
        "**compute probablity of every value of the random variable**"
      ],
      "metadata": {
        "id": "mMvOU1rP5bLl"
      }
    },
    {
      "cell_type": "code",
      "source": [
        "# write your code here, don't write a function\n",
        "# you can use the scipy library\n",
        "import math\n",
        "p=0.7364746945898778\n",
        "n=3\n",
        "prob={}\n",
        "for k in range(n+1):\n",
        "  prob[k]=math.comb(n, k) * (p ** k) * ((1 - p) ** (n-k))\n",
        "  print(\"Probability of \",k,\" successes (Y =\" ,k,\"):\", prob[k])\n",
        "prob2=prob[2]\n",
        "prob2"
      ],
      "metadata": {
        "id": "nUMNJ0Qu5cHO",
        "colab": {
          "base_uri": "https://localhost:8080/"
        },
        "outputId": "edbbc932-2eb2-42d8-d4d8-c16a376ab33f"
      },
      "execution_count": null,
      "outputs": [
        {
          "output_type": "stream",
          "name": "stdout",
          "text": [
            "Probability of  0  successes (Y = 0 ): 0.018300669415909646\n",
            "Probability of  1  successes (Y = 1 ): 0.1534347515267656\n",
            "Probability of  2  successes (Y = 2 ): 0.4288044049291064\n",
            "Probability of  3  successes (Y = 3 ): 0.39946017412821827\n"
          ]
        },
        {
          "output_type": "execute_result",
          "data": {
            "text/plain": [
              "0.4288044049291064"
            ]
          },
          "metadata": {},
          "execution_count": 10
        }
      ]
    },
    {
      "cell_type": "markdown",
      "source": [
        "# Question 2 ( 5 Points )\n",
        "\n",
        "Assume a random variable X that defines the Gender of a student. We define a success when the student is a `female`.\n",
        "\n",
        "- compute the probability of success using the data (1 point)\n",
        "- write a function that computes the probability of a bernoulli random **variable**. (2 points)\n",
        "- plot the distribution of the random variable X (2 points)"
      ],
      "metadata": {
        "id": "BXPOM0hdlZS0"
      }
    },
    {
      "cell_type": "markdown",
      "source": [
        "**compute probability of success**"
      ],
      "metadata": {
        "id": "ie1wrhFAloRW"
      }
    },
    {
      "cell_type": "code",
      "source": [
        "# write code to compute probability of success, no need for a function\n",
        "# you should get 0.5130890052356021 as a result for p\n",
        "numberOfFEMALEstudents =sum((x['gender'] =='female')  for x in data)\n",
        "totalStudents=len(data)\n",
        "\n",
        "pFemale=numberOfFEMALEstudents/totalStudents\n",
        "print(\"Probability of success (p):\", pFemale)\n",
        "\n"
      ],
      "metadata": {
        "id": "fK0ekYJolpzi",
        "colab": {
          "base_uri": "https://localhost:8080/"
        },
        "outputId": "0ba1f248-d56e-469e-8640-6c73472b5152"
      },
      "execution_count": null,
      "outputs": [
        {
          "output_type": "stream",
          "name": "stdout",
          "text": [
            "Probability of success (p): 0.5130890052356021\n"
          ]
        }
      ]
    },
    {
      "cell_type": "markdown",
      "source": [
        "**write pmf function**"
      ],
      "metadata": {
        "id": "n16MmTBUl5fS"
      }
    },
    {
      "cell_type": "code",
      "source": [
        "import matplotlib.pyplot as plt\n",
        "def pmfBernoulli(p, x):\n",
        "  if x == 1:\n",
        "        return p\n",
        "  elif x == 0:\n",
        "        return 1 - p\n",
        "xValues=[0,1]\n",
        "prob =[ pmfBernoulli(pFemale, x)for x in xValues]\n",
        "\n",
        "# Plot the PMF\n",
        "plt.bar(xValues, prob, color='skyblue', alpha=0.7)\n",
        "plt.xlabel('Value of the Random Variable (X)')\n",
        "plt.ylabel('Probability')\n",
        "plt.title('Probability Mass Function (PMF) of a Bernoulli Random Variable')\n",
        "plt.xticks(xValues)\n",
        "plt.grid(axis='y', linestyle='--', alpha=0.7)\n",
        "plt.show()"
      ],
      "metadata": {
        "id": "S0WM38njl7Iw",
        "colab": {
          "base_uri": "https://localhost:8080/",
          "height": 472
        },
        "outputId": "1af1a847-bcd2-41de-c77a-7a0bcc5f02df"
      },
      "execution_count": null,
      "outputs": [
        {
          "output_type": "display_data",
          "data": {
            "text/plain": [
              "<Figure size 640x480 with 1 Axes>"
            ],
            "image/png": "[encoded data removed]"
          },
          "metadata": {}
        }
      ]
    },
    {
      "cell_type": "code",
      "source": [],
      "metadata": {
        "id": "T5E_8dNQ2opC"
      },
      "execution_count": null,
      "outputs": []
    },
    {
      "cell_type": "markdown",
      "source": [
        "# Question 3 ( 5 Points )\n",
        "\n",
        "We need to build a function to predict the student mark using information from the columns (Gender, Parent education, Test preperation)\n",
        "\n",
        "- build a function that receives the entire list of students and a list of columns using which the prediction is going to be conducted.\n",
        "\n",
        "*input:*\n",
        "- the historical data as a list of dictionaries\n",
        "- information of the unseen student as a dictionary\n",
        "- features (columns) to be used in the mark prediction\n",
        "\n",
        "*output:*\n",
        "- the predicted mark for that student. The predicted mark is the mark with the maximum conditional probability.\n",
        "\n",
        "\n",
        "For example: if we call the function and pass the following arguments:\n",
        "\n",
        "**predict_mark(data, {'gender': 'female',\n",
        "  'parent_education': 'some college',\n",
        "  'test_preperation': 'completed',\n",
        "  'mark': 'D',\n",
        "  'score_1':60,\n",
        "  'score_2':40,\n",
        "  'score_3':70\n",
        "  }, ['parent_education'])**\n",
        "\n",
        "then the function will return the mark with the maximum probability among these\n",
        "  - p(mark=A|parent_education='some college')\n",
        "  - p(mark=B|parent_education='some college')\n",
        "  - p(mark=C|parent_education='some college')"
      ],
      "metadata": {
        "id": "2OsJqPxpnO4Z"
      }
    },
    {
      "cell_type": "code",
      "source": [
        " # write your prediction function here\n",
        "def predictMark(data, unseenStudentInfo, features):\n",
        "    filteredData = []\n",
        "\n",
        "    # Filter historical data based on selected features\n",
        "    for student in data:\n",
        "        selectedFeatures = {feature: student[feature] for feature in features}\n",
        "        if selectedFeatures == {k: unseenStudentInfo[k] for k in features}:\n",
        "            filteredData.append(student)\n",
        "\n",
        "    # Calculate conditional probabilities of each mark given the values of selected features\n",
        "    conditionalProb = {}\n",
        "    for mark in ['A', 'B', 'C']:\n",
        "        countMark = sum(1 for student in filteredData if student['mark'] == mark)\n",
        "        totalStudents = len(filteredData)\n",
        "        conditionalProb[mark] = countMark / totalStudents\n",
        "\n",
        "    # Select the mark with the maximum conditional probability\n",
        "    predictMark = max(conditionalProb, key=conditionalProb.get)\n",
        "\n",
        "    return predictMark\n",
        "unseenStudentInfo = {'gender': 'female', 'parent_education': 'some college', 'test_preperation': 'completed', 'mark': 'D', 'score_1':60, 'score_2':40, 'score_3':70}\n",
        "\n",
        "# Features to be used in mark prediction\n",
        "features = ['parent_education']\n",
        "\n",
        "# Predict the mark for the unseen student\n",
        "predictMark = predictMark(data, unseenStudentInfo, features)\n",
        "print(\"Predicted Mark:\", predictMark)"
      ],
      "metadata": {
        "id": "mDjOGbROqmJG",
        "colab": {
          "base_uri": "https://localhost:8080/"
        },
        "outputId": "71c36d2c-dd0b-4ae9-ffd0-1af421f3f693"
      },
      "execution_count": null,
      "outputs": [
        {
          "output_type": "stream",
          "name": "stdout",
          "text": [
            "Predicted Mark: C\n"
          ]
        }
      ]
    },
    {
      "cell_type": "markdown",
      "source": [
        "# Question 4 ( 5 Points )\n",
        "\n",
        "We need to add a key to each student dictionary called 'predicted_mark' and call the above function to populate this field with data for all students. Now you have two entries `mark` and `predicted_mark`\n",
        "\n",
        "write code segment to calculate the accuracy of the predictor system you built above.\n",
        "$$\n",
        "\\text{accuracy} = \\frac{\\text{number of student dictionaries with identical predicted and actual marks}}{\\text{total number of student dictionaries}}\n",
        "$$\n",
        "\n",
        "Then calculate the accuracy for this feature combinations:\n",
        "  - Gender, Parent education, Test preperation\n",
        "\n"
      ],
      "metadata": {
        "id": "giVj_51B2XoX"
      }
    },
    {
      "cell_type": "code",
      "source": [
        "\n",
        "\n",
        "# Assuming this is your predictMark function\n",
        "def predictMark(data, unseenStudentInfo, features):\n",
        "     filteredData = []\n",
        "\n",
        "    # Filter historical data based on selected features\n",
        "     for student in data:\n",
        "        selectedFeatures = {feature: student[feature] for feature in features}\n",
        "        if selectedFeatures == {k: unseenStudentInfo[k] for k in features}:\n",
        "            filteredData.append(student)\n",
        "\n",
        "    # Calculate conditional probabilities of each mark given the values of selected features\n",
        "     conditionalProb = {}\n",
        "     for mark in ['A', 'B', 'C']:\n",
        "        countMark = sum(1 for student in filteredData if student['mark'] == mark)\n",
        "        totalStudents = len(filteredData)\n",
        "        conditionalProb[mark] = countMark / totalStudents\n",
        "\n",
        "    # Select the mark with the maximum conditional probability\n",
        "     predictMark = max(conditionalProb, key=conditionalProb.get)\n",
        "\n",
        "     return predictMark\n",
        "\n",
        "# Iterate over each student in the data\n",
        "for student in data:\n",
        "    # Predict the mark for the current student using the specified features\n",
        "    predicted_mark = predictMark(data, student, ['gender', 'parent_education', 'test_preperation'])\n",
        "\n",
        "    # Add the 'predicted_mark' key to the student dictionary and assign the predicted mark\n",
        "    student['predicted_mark'] = predicted_mark\n",
        "\n",
        "# Calculate the accuracy of the predictor system using the new feature combination\n",
        "total_students = len(data)\n",
        "correct_predictions = sum(student['mark'] == student['predicted_mark'] for student in data)\n",
        "accuracy = correct_predictions / total_students\n",
        "\n",
        "print(\"Accuracy with Gender, Parent education, and Test preperation:\", accuracy)\n"
      ],
      "metadata": {
        "id": "W5Bmq68u3CTZ",
        "colab": {
          "base_uri": "https://localhost:8080/"
        },
        "outputId": "4fdc11ae-0454-473a-c7d2-ffd217e383b5"
      },
      "execution_count": null,
      "outputs": [
        {
          "output_type": "stream",
          "name": "stdout",
          "text": [
            "Accuracy with Gender, Parent education, and Test preperation: 0.7905759162303665\n"
          ]
        }
      ]
    },
    {
      "cell_type": "code",
      "source": [],
      "metadata": {
        "id": "Gcqe-2Qf7gIk"
      },
      "execution_count": null,
      "outputs": []
    },
    {
      "cell_type": "code",
      "source": [],
      "metadata": {
        "id": "c0GaA4lL7iXD"
      },
      "execution_count": null,
      "outputs": []
    }
  ]
}